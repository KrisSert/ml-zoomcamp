{
 "cells": [
  {
   "cell_type": "code",
   "execution_count": null,
   "metadata": {},
   "outputs": [],
   "source": [
    "import pandas as pd\n",
    "\n",
    "pd.__version__"
   ]
  },
  {
   "cell_type": "code",
   "execution_count": null,
   "metadata": {},
   "outputs": [],
   "source": [
    "df = pd.read_csv(\"laptops.csv\")\n",
    "#count recs\n",
    "print(len(df))"
   ]
  },
  {
   "cell_type": "code",
   "execution_count": null,
   "metadata": {},
   "outputs": [],
   "source": [
    "#get unique laptop brands cnt. \n",
    "#print(len(df['Brand'].unique()))\n",
    "df['Brand'].unique()\n",
    "\n",
    "df_brands = df.groupby('Brand').count()\n",
    "print(df_brands)"
   ]
  },
  {
   "cell_type": "code",
   "execution_count": null,
   "metadata": {},
   "outputs": [],
   "source": [
    "# Get columns with any null values\n",
    "null_columns = df.columns[df.isnull().any()]\n",
    "\n",
    "print(f\"len of cases w nulls: {len(null_columns)}\")"
   ]
  },
  {
   "cell_type": "code",
   "execution_count": null,
   "metadata": {},
   "outputs": [],
   "source": [
    "# max final price. of DELL notebooks.\n",
    "\n",
    "df_dell = df[df['Brand'] == 'Dell']\n",
    "#print where max final price\n",
    "print(df_dell['Final Price'].max())"
   ]
  },
  {
   "cell_type": "code",
   "execution_count": null,
   "metadata": {},
   "outputs": [],
   "source": [
    "#Median value of screen\n",
    "\n",
    "#1.Find the median value of Screen column in the dataset.\n",
    "screen_median = df['Screen'].median()\n",
    "\n",
    "#2.Next, calculate the most frequent value of the same Screen column.\n",
    "screen_most_frequent = df['Screen'].mode()[0] #[0]\n",
    "print(screen_most_frequent)\n",
    "print(df['Screen'].unique())\n",
    "\n",
    "#3.Use fillna method to fill the missing values in Screen column with the most frequent value from the previous step.\n",
    "df['Screen'] = df['Screen'].fillna(screen_most_frequent)\n",
    "\n",
    "#Now, calculate the median value of Screen once again.\n",
    "screen_most_frequent2 = df['Screen'].mode()[0] #[0]\n",
    "print(screen_most_frequent2)\n",
    "print(df['Screen'].unique())"
   ]
  },
  {
   "cell_type": "code",
   "execution_count": null,
   "metadata": {},
   "outputs": [],
   "source": [
    "# sum of weights\n",
    "import numpy as np\n",
    "\n",
    "\n",
    "#1. Select all the \"Innjoo\" laptops from the dataset.\n",
    "df_innjoo = df[df['Brand'] == 'Innjoo']\n",
    "\n",
    "#2.Select only columns RAM, Storage, Screen.\n",
    "df_innjoo = df_innjoo[['RAM', 'Storage', 'Screen']]\n",
    "print(df_innjoo)\n",
    "\n",
    "#3. Get the underlying NumPy array. Let's call it X.\n",
    "    #import numpy as np\n",
    "X = df_innjoo.to_numpy()\n",
    "\n",
    "print(X)\n",
    "print(type(X))\n",
    "\n",
    "#4. Compute matrix-matrix multiplication between the transpose of X and X. \n",
    "#   To get the transpose, use X.T. Let's call the result XTX.\n",
    "\n",
    "XTX = X.T @ X #np.dot(X, X.T)\n",
    "print(XTX)\n",
    "\n",
    "# 5. compute the inverse of the matrix.\n",
    "inverse_matrix = np.linalg.inv(XTX)\n",
    "print(inverse_matrix)\n",
    "\n",
    "# 6. Create an array y with values [1100, 1300, 800, 900, 1000, 1100].\n",
    "y = np.array([1100, 1300, 800, 900, 1000, 1100])\n",
    "print(y, type(y))\n",
    "\n",
    "# 7. Multiply the inverse of XTX with the transpose of X, and then multiply the result by y. Call the result w.\n",
    "w = inverse_matrix @ X.T @ y\n",
    "print(w)\n",
    "\n",
    "# 8. What's the sum of all the elements of the result?\n",
    "print(w.sum())\n"
   ]
  },
  {
   "cell_type": "code",
   "execution_count": null,
   "metadata": {},
   "outputs": [],
   "source": []
  }
 ],
 "metadata": {
  "kernelspec": {
   "display_name": "Python 3",
   "language": "python",
   "name": "python3"
  },
  "language_info": {
   "codemirror_mode": {
    "name": "ipython",
    "version": 3
   },
   "file_extension": ".py",
   "mimetype": "text/x-python",
   "name": "python",
   "nbconvert_exporter": "python",
   "pygments_lexer": "ipython3",
   "version": "3.12.1"
  }
 },
 "nbformat": 4,
 "nbformat_minor": 2
}
